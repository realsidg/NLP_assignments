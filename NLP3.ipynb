{
 "cells": [
  {
   "cell_type": "code",
   "execution_count": 4,
   "metadata": {},
   "outputs": [],
   "source": [
    "import nltk"
   ]
  },
  {
   "cell_type": "code",
   "execution_count": 11,
   "metadata": {},
   "outputs": [
    {
     "name": "stdout",
     "output_type": "stream",
     "text": [
      "[('Beautiful', 'NNP'), ('is', 'VBZ'), ('better', 'JJR'), ('than', 'IN'), ('ugly', 'RB'), ('.', '.')]\n",
      "[('Explicit', 'NNP'), ('is', 'VBZ'), ('better', 'JJR'), ('than', 'IN'), ('implicit', 'NN'), ('.', '.')]\n",
      "[('Simple', 'NN'), ('is', 'VBZ'), ('better', 'JJR'), ('than', 'IN'), ('complex', 'JJ'), ('.', '.')]\n",
      "[('Complex', 'NNP'), ('is', 'VBZ'), ('better', 'JJR'), ('than', 'IN'), ('complicated', 'VBN'), ('.', '.')]\n",
      "[('Flat', 'NNP'), ('is', 'VBZ'), ('better', 'JJR'), ('than', 'IN'), ('nested', 'VBN'), ('.', '.')]\n",
      "[('Sparse', 'NN'), ('is', 'VBZ'), ('better', 'JJR'), ('than', 'IN'), ('dense', 'NN'), ('.', '.')]\n",
      "[('Readability', 'NN'), ('counts', 'NNS'), ('.', '.')]\n",
      "[('Special', 'JJ'), ('cases', 'NNS'), ('are', 'VBP'), (\"n't\", 'RB'), ('special', 'JJ'), ('enough', 'RB'), ('to', 'TO'), ('break', 'VB'), ('the', 'DT'), ('rules', 'NNS'), ('.', '.')]\n",
      "[('Although', 'IN'), ('practicality', 'NN'), ('beats', 'NNS'), ('purity', 'NN'), ('.', '.')]\n",
      "[('Errors', 'NNS'), ('should', 'MD'), ('never', 'RB'), ('pass', 'VB'), ('silently', 'RB'), ('.', '.')]\n",
      "[('Unless', 'IN'), ('explicitly', 'RB'), ('silenced', 'VBN'), ('.', '.')]\n",
      "[('In', 'IN'), ('the', 'DT'), ('face', 'NN'), ('of', 'IN'), ('ambiguity', 'NN'), (',', ','), ('refuse', 'VB'), ('the', 'DT'), ('temptation', 'NN'), ('to', 'TO'), ('guess', 'VB'), ('.', '.')]\n",
      "[('There', 'EX'), ('should', 'MD'), ('be', 'VB'), ('one', 'CD'), ('--', ':'), ('and', 'CC'), ('preferably', 'RB'), ('only', 'RB'), ('one', 'CD'), ('--', ':'), ('obvious', 'JJ'), ('way', 'NN'), ('to', 'TO'), ('do', 'VB'), ('it', 'PRP'), ('.', '.')]\n",
      "[('Although', 'IN'), ('that', 'DT'), ('way', 'NN'), ('may', 'MD'), ('not', 'RB'), ('be', 'VB'), ('obvious', 'JJ'), ('at', 'IN'), ('first', 'JJ'), ('unless', 'IN'), ('you', 'PRP'), (\"'re\", 'VBP'), ('Dutch', 'JJ'), ('.', '.')]\n",
      "[('Now', 'RB'), ('is', 'VBZ'), ('better', 'RBR'), ('than', 'IN'), ('never', 'RB'), ('.', '.')]\n",
      "[('Although', 'IN'), ('never', 'RB'), ('is', 'VBZ'), ('often', 'RB'), ('better', 'JJR'), ('than', 'IN'), ('*', 'RB'), ('right', 'JJ'), ('*', 'NN'), ('now', 'RB'), ('.', '.')]\n",
      "[('If', 'IN'), ('the', 'DT'), ('implementation', 'NN'), ('is', 'VBZ'), ('hard', 'JJ'), ('to', 'TO'), ('explain', 'VB'), (',', ','), ('it', 'PRP'), (\"'s\", 'VBZ'), ('a', 'DT'), ('bad', 'JJ'), ('idea', 'NN'), ('.', '.')]\n",
      "[('If', 'IN'), ('the', 'DT'), ('implementation', 'NN'), ('is', 'VBZ'), ('easy', 'JJ'), ('to', 'TO'), ('explain', 'VB'), (',', ','), ('it', 'PRP'), ('may', 'MD'), ('be', 'VB'), ('a', 'DT'), ('good', 'JJ'), ('idea', 'NN'), ('.', '.')]\n",
      "[('Namespaces', 'NNS'), ('are', 'VBP'), ('one', 'CD'), ('honking', 'VBG'), ('great', 'JJ'), ('idea', 'NN'), ('--', ':'), ('let', 'VB'), (\"'s\", 'POS'), ('do', 'VB'), ('more', 'JJR'), ('of', 'IN'), ('those', 'DT'), ('!', '.')]\n"
     ]
    }
   ],
   "source": [
    "# TASK 1: BASIC TEXT PROCESSING PIPELINE\n",
    "texts = '''Beautiful is better than ugly.\n",
    "Explicit is better than implicit.\n",
    "Simple is better than complex.\n",
    "Complex is better than complicated.\n",
    "Flat is better than nested.\n",
    "Sparse is better than dense.\n",
    "Readability counts.\n",
    "Special cases aren't special enough to break the rules.\n",
    "Although practicality beats purity.\n",
    "Errors should never pass silently.\n",
    "Unless explicitly silenced.\n",
    "In the face of ambiguity, refuse the temptation to guess.\n",
    "There should be one-- and preferably only one --obvious way to do it.\n",
    "Although that way may not be obvious at first unless you're Dutch.\n",
    "Now is better than never.\n",
    "Although never is often better than *right* now.\n",
    "If the implementation is hard to explain, it's a bad idea.\n",
    "If the implementation is easy to explain, it may be a good idea.\n",
    "Namespaces are one honking great idea -- let's do more of those!'''\n",
    "\n",
    "# for text in texts:\n",
    "sentences = nltk.sent_tokenize(texts)\n",
    "for sentence in sentences:\n",
    "    words = nltk.word_tokenize(sentence)\n",
    "    tagged = nltk.pos_tag(words)\n",
    "    print(tagged)"
   ]
  },
  {
   "cell_type": "code",
   "execution_count": 13,
   "metadata": {},
   "outputs": [
    {
     "data": {
      "text/plain": [
       "['The', 'Party', 'was', 'soooo', 'fun', ':D', '#superfun']"
      ]
     },
     "execution_count": 13,
     "metadata": {},
     "output_type": "execute_result"
    }
   ],
   "source": [
    "# TASK 2: TweetTokenizer\n",
    "from nltk.tokenize import TweetTokenizer\n",
    "text = 'The Party was soooo fun :D #superfun'\n",
    "twtkn = TweetTokenizer()\n",
    "twtkn.tokenize(text)"
   ]
  },
  {
   "cell_type": "code",
   "execution_count": 17,
   "metadata": {},
   "outputs": [
    {
     "data": {
      "text/plain": [
       "list"
      ]
     },
     "execution_count": 17,
     "metadata": {},
     "output_type": "execute_result"
    }
   ],
   "source": [
    "# TASK 3: SCRAPING DATA FROM WEB\n",
    "\n",
    "from urllib import request\n",
    "url = \"http://www.gutenberg.org/cache/epub/62782/pg62782.txt\"\n",
    "response = request.urlopen(url)\n",
    "raw = response.read().decode('utf8')\n",
    "\n",
    "tokens = nltk.word_tokenize(raw)\n"
   ]
  },
  {
   "cell_type": "code",
   "execution_count": 18,
   "metadata": {},
   "outputs": [
    {
     "name": "stdout",
     "output_type": "stream",
     "text": [
      "Displaying 17 of 17 matches:\n",
      "n The Signal premiere. Lotsa buyers. Good luck gang listening to the pocast ne\n",
      "so going to enjoy this shower. Feels good to have worked on a trail three time\n",
      "ose not my friend. it was not a very good day so I have a lot to do tomorrow..\n",
      "Oh why cheesecake why? You looked so good evil cake. Now metamucil. Reading: \"\n",
      "utiful day so Im thinking to spend a good part of it outdoors.first stop at St\n",
      "g and ignoring my reaction to a very good friend getting fired. it's like a bi\n",
      "d HDH - url wrist sprain= damn pain. good thing it's not on my left hand. Bein\n",
      " I bet I can throw farther than her. Good luck with that dude. Sure it will al\n",
      " Choppers. first day of eid .. feels good Looking to buy a game called Shut th\n",
      "g. back from the ASLA 6 Congress. :) Good job ASLA CORE! I'm gonna need to ste\n",
      "tching the CNBC video of David Lear. Good job Sean! and now... off to Belize! \n",
      " Mom's cousin's car. this would be a good place for wifi! a hot technology to \n",
      "e Long Tail: Are dead-tree magazines good or bad for the climate? url the mida\n",
      "ortened! url www.last.fm is a really good idea Worst drive I've ever had. Sanj\n",
      " my tivoed shows I missed last week. Good day from fratres this 01.22.08! Ther\n",
      "ill have cause for regret. 01..24.08 Good Day!!! See Pope Benedict's plea for \n",
      ".. , @cleshen, everything went well. Good people! Probably have to go back to \n"
     ]
    }
   ],
   "source": [
    "# TASK 4. HANDLING TWEETS\n",
    "\n",
    "f = open('tweets1.txt', 'r')\n",
    "text = f.read()\n",
    "text1 = text.split()\n",
    "text2 = nltk.Text(text1)\n",
    "text2.concordance('good')"
   ]
  },
  {
   "cell_type": "code",
   "execution_count": null,
   "metadata": {},
   "outputs": [],
   "source": []
  }
 ],
 "metadata": {
  "kernelspec": {
   "display_name": "Python 3",
   "language": "python",
   "name": "python3"
  },
  "language_info": {
   "codemirror_mode": {
    "name": "ipython",
    "version": 3
   },
   "file_extension": ".py",
   "mimetype": "text/x-python",
   "name": "python",
   "nbconvert_exporter": "python",
   "pygments_lexer": "ipython3",
   "version": "3.7.0"
  }
 },
 "nbformat": 4,
 "nbformat_minor": 4
}
